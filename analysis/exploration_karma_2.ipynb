{
 "cells": [
  {
   "cell_type": "code",
   "execution_count": 1,
   "metadata": {},
   "outputs": [
    {
     "name": "stderr",
     "output_type": "stream",
     "text": [
      "/Users/osm3000/opt/miniconda3/lib/python3.9/site-packages/pandas/core/arrays/masked.py:60: UserWarning: Pandas requires version '1.3.6' or newer of 'bottleneck' (version '1.3.5' currently installed).\n",
      "  from pandas.core import (\n"
     ]
    }
   ],
   "source": [
    "import pandas as pd\n",
    "import numpy as np\n",
    "import matplotlib.pyplot as plt\n",
    "\n",
    "%matplotlib inline"
   ]
  },
  {
   "cell_type": "code",
   "execution_count": 2,
   "metadata": {},
   "outputs": [
    {
     "name": "stdout",
     "output_type": "stream",
     "text": [
      "   author_total_score  author_median_score  karma      author_name  \\\n",
      "0                   1                    1    1.0            Ulied   \n",
      "1                   2                    1    1.0       jt-tech781   \n",
      "2                   4                    1    1.0         karole_p   \n",
      "3                   2                    2    1.0        syahirahn   \n",
      "4                  12                    1    2.0  liberatedleader   \n",
      "\n",
      "   author_mean_score  nb_of_stories  first_appearance  last_appearance  \\\n",
      "0                1.0              1              2023             2023   \n",
      "1                1.0              2              2011             2011   \n",
      "2                2.0              2              2017             2017   \n",
      "3                2.0              1              2020             2020   \n",
      "4                1.0             12              2020             2021   \n",
      "\n",
      "        created  \n",
      "0  1.675588e+09  \n",
      "1  1.313863e+09  \n",
      "2  1.484574e+09  \n",
      "3  1.582251e+09  \n",
      "4  1.603768e+09  \n"
     ]
    }
   ],
   "source": [
    "# Read the data from the CSV file\n",
    "data = pd.read_csv(\"./data/output.csv\")\n",
    "\n",
    "# data = data[data['karma'] > 0]\n",
    "\n",
    "# Print the first few rows of the data\n",
    "print(data.head())"
   ]
  },
  {
   "cell_type": "code",
   "execution_count": 6,
   "metadata": {},
   "outputs": [],
   "source": [
    "data['karma_levels']  = data['karma'].apply(lambda x: 'negative' if x < 0 else 'zero' if x == 0 else 'positive')"
   ]
  },
  {
   "cell_type": "code",
   "execution_count": 18,
   "metadata": {},
   "outputs": [
    {
     "data": {
      "text/plain": [
       "karma_levels\n",
       "positive    97.877012\n",
       "negative     1.129279\n",
       "zero         0.993709\n",
       "Name: count, dtype: float64"
      ]
     },
     "execution_count": 18,
     "metadata": {},
     "output_type": "execute_result"
    }
   ],
   "source": [
    "# Plot the data\n",
    "x = data['karma_levels'].value_counts() / data['karma_levels'].value_counts().sum()\n",
    "x *= 100\n",
    "x"
   ]
  },
  {
   "cell_type": "markdown",
   "metadata": {},
   "source": [
    "# Explore the odd karam: very little, when there is a large total upvotes"
   ]
  },
  {
   "cell_type": "code",
   "execution_count": 21,
   "metadata": {},
   "outputs": [],
   "source": [
    "data[\"author_median_score_levels\"] = data[\"author_median_score\"].apply(lambda x: \"less_than_5\" if x < 5 else \"5_to_10\" if x < 10 else \"more_than_10\")"
   ]
  },
  {
   "cell_type": "code",
   "execution_count": 30,
   "metadata": {},
   "outputs": [
    {
     "data": {
      "text/html": [
       "<div>\n",
       "<style scoped>\n",
       "    .dataframe tbody tr th:only-of-type {\n",
       "        vertical-align: middle;\n",
       "    }\n",
       "\n",
       "    .dataframe tbody tr th {\n",
       "        vertical-align: top;\n",
       "    }\n",
       "\n",
       "    .dataframe thead th {\n",
       "        text-align: right;\n",
       "    }\n",
       "</style>\n",
       "<table border=\"1\" class=\"dataframe\">\n",
       "  <thead>\n",
       "    <tr style=\"text-align: right;\">\n",
       "      <th>karma_levels</th>\n",
       "      <th>negative</th>\n",
       "      <th>positive</th>\n",
       "      <th>zero</th>\n",
       "    </tr>\n",
       "    <tr>\n",
       "      <th>author_median_score_levels</th>\n",
       "      <th></th>\n",
       "      <th></th>\n",
       "      <th></th>\n",
       "    </tr>\n",
       "  </thead>\n",
       "  <tbody>\n",
       "    <tr>\n",
       "      <th>5_to_10</th>\n",
       "      <td>0.56</td>\n",
       "      <td>99.03</td>\n",
       "      <td>0.42</td>\n",
       "    </tr>\n",
       "    <tr>\n",
       "      <th>less_than_5</th>\n",
       "      <td>1.21</td>\n",
       "      <td>97.72</td>\n",
       "      <td>1.07</td>\n",
       "    </tr>\n",
       "    <tr>\n",
       "      <th>more_than_10</th>\n",
       "      <td>0.24</td>\n",
       "      <td>99.66</td>\n",
       "      <td>0.10</td>\n",
       "    </tr>\n",
       "  </tbody>\n",
       "</table>\n",
       "</div>"
      ],
      "text/plain": [
       "karma_levels                negative  positive  zero\n",
       "author_median_score_levels                          \n",
       "5_to_10                         0.56     99.03  0.42\n",
       "less_than_5                     1.21     97.72  1.07\n",
       "more_than_10                    0.24     99.66  0.10"
      ]
     },
     "execution_count": 30,
     "metadata": {},
     "output_type": "execute_result"
    }
   ],
   "source": [
    "(pd.crosstab(\n",
    "    data[\"author_median_score_levels\"], data[\"karma_levels\"], normalize=\"index\") * 100).round(2)\n",
    "# pd.crosstab(\n",
    "#     data[\"author_median_score_levels\"], data[\"karma_levels\"], normalize=\"index\"\n",
    "# ) * 100"
   ]
  },
  {
   "cell_type": "code",
   "execution_count": null,
   "metadata": {},
   "outputs": [],
   "source": []
  }
 ],
 "metadata": {
  "kernelspec": {
   "display_name": "base",
   "language": "python",
   "name": "python3"
  },
  "language_info": {
   "codemirror_mode": {
    "name": "ipython",
    "version": 3
   },
   "file_extension": ".py",
   "mimetype": "text/x-python",
   "name": "python",
   "nbconvert_exporter": "python",
   "pygments_lexer": "ipython3",
   "version": "3.9.12"
  }
 },
 "nbformat": 4,
 "nbformat_minor": 2
}
